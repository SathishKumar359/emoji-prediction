{
  "cells": [
    {
      "cell_type": "markdown",
      "metadata": {
        "id": "view-in-github",
        "colab_type": "text"
      },
      "source": [
        "<a href=\"https://colab.research.google.com/github/SathishKumar359/emoji-prediction/blob/main/text_to_emoji_prediction.ipynb\" target=\"_parent\"><img src=\"https://colab.research.google.com/assets/colab-badge.svg\" alt=\"Open In Colab\"/></a>"
      ]
    },
    {
      "cell_type": "code",
      "source": [
        "def read_file(file_name):\n",
        "    data_list  = []\n",
        "    with open(file_name, 'r') as f:\n",
        "        for line in f:\n",
        "            line = line.strip()\n",
        "            label = ' '.join(line[1:line.find(\"]\")].strip().split())\n",
        "            text = line[line.find(\"]\")+1:].strip()\n",
        "            data_list.append([label, text])\n",
        "    return data_list"
      ],
      "metadata": {
        "id": "C7EEdVJ3wQXa"
      },
      "execution_count": null,
      "outputs": []
    },
    {
      "cell_type": "code",
      "source": [
        "file_name = \"/content/sample_data/Dataset/psychExp.txt\"\n",
        "psychExp_txt = read_file(file_name)"
      ],
      "metadata": {
        "id": "T_EmIjkSwXav"
      },
      "execution_count": null,
      "outputs": []
    },
    {
      "cell_type": "code",
      "source": [
        "print(\"The number of instances: {}\".format(len(psychExp_txt)))"
      ],
      "metadata": {
        "id": "Tg9RrmHJw3Ys",
        "outputId": "cd58f0e1-9873-406f-d01a-1b48e19fd684",
        "colab": {
          "base_uri": "https://localhost:8080/"
        }
      },
      "execution_count": null,
      "outputs": [
        {
          "output_type": "stream",
          "name": "stdout",
          "text": [
            "The number of instances: 7480\n"
          ]
        }
      ]
    },
    {
      "cell_type": "code",
      "source": [
        "print(\"Data example: \")\n",
        "print(psychExp_txt[0])"
      ],
      "metadata": {
        "id": "8vqwvxSRw7HH",
        "outputId": "a009f702-6136-4566-9623-91eb84307eb9",
        "colab": {
          "base_uri": "https://localhost:8080/"
        }
      },
      "execution_count": null,
      "outputs": [
        {
          "output_type": "stream",
          "name": "stdout",
          "text": [
            "Data example: \n",
            "['1. 0. 0. 0. 0. 0. 0.', 'During the period of falling in love, each time that we met and especially when we had not met for a long time.']\n"
          ]
        }
      ]
    },
    {
      "cell_type": "code",
      "source": [
        "import re\n",
        "from collections import Counter"
      ],
      "metadata": {
        "id": "1DoAYznGw9Xu"
      },
      "execution_count": null,
      "outputs": []
    },
    {
      "cell_type": "code",
      "source": [
        "def ngram(token, n):\n",
        "    output = []\n",
        "    for i in range(n-1, len(token)):\n",
        "        ngram = ' '.join(token[i-n+1:i+1])\n",
        "        output.append(ngram)\n",
        "    return output"
      ],
      "metadata": {
        "id": "fn713_soxHuQ"
      },
      "execution_count": null,
      "outputs": []
    },
    {
      "cell_type": "code",
      "source": [
        "def create_feature(text, nrange=(1, 1)):\n",
        "    text_features = []\n",
        "    text = text.lower()\n",
        "\n",
        "    # 1. treat alphanumeric characters as word tokens\n",
        "    # Since tweets contain #, we keep it as a feature\n",
        "    # Then, extract all ngram lengths\n",
        "    text_alphanum = re.sub('[^a-z0-9#]', ' ', text)\n",
        "    for n in range(nrange[0], nrange[1]+1):\n",
        "        text_features += ngram(text_alphanum.split(), n)\n",
        "\n",
        "    # 2. treat punctuations as word token\n",
        "    text_punc = re.sub('[a-z0-9]', ' ', text)\n",
        "    text_features += ngram(text_punc.split(), 1)\n",
        "\n",
        "    # 3. Return a dictinaory whose keys are the list of elements\n",
        "    # and their values are the number of times appearede in the list.\n",
        "    return Counter(text_features)"
      ],
      "metadata": {
        "id": "puaSCKQBxU_Y"
      },
      "execution_count": null,
      "outputs": []
    },
    {
      "cell_type": "code",
      "source": [
        "print(create_feature(\"I love you!\"))\n",
        "print(create_feature(\" aly wins the gold!!!!!!  #olympics\"))\n",
        "print(create_feature(\" aly wins the gold!!!!!!  #olympics\", (1, 2)))"
      ],
      "metadata": {
        "id": "hxqDh7jWxGGt",
        "outputId": "ac151f52-4a02-4b57-ff3d-adff89894e7a",
        "colab": {
          "base_uri": "https://localhost:8080/"
        }
      },
      "execution_count": null,
      "outputs": [
        {
          "output_type": "stream",
          "name": "stdout",
          "text": [
            "Counter({'i': 1, 'love': 1, 'you': 1, '!': 1})\n",
            "Counter({'aly': 1, 'wins': 1, 'the': 1, 'gold': 1, '#olympics': 1, '!!!!!!': 1, '#': 1})\n",
            "Counter({'aly': 1, 'wins': 1, 'the': 1, 'gold': 1, '#olympics': 1, 'aly wins': 1, 'wins the': 1, 'the gold': 1, 'gold #olympics': 1, '!!!!!!': 1, '#': 1})\n"
          ]
        }
      ]
    },
    {
      "cell_type": "code",
      "source": [
        "def convert_label(item, name):\n",
        "    items = list(map(float, item.split()))\n",
        "    label = \"\"\n",
        "    for idx in range(len(items)):\n",
        "        if items[idx] == 1:\n",
        "            label += name[idx] + \" \"\n",
        "\n",
        "    return label.strip()"
      ],
      "metadata": {
        "id": "Rdq2iJXmxhEr"
      },
      "execution_count": null,
      "outputs": []
    },
    {
      "cell_type": "code",
      "source": [
        "emotions = [\"joy\", 'fear', \"anger\", \"sadness\", \"disgust\", \"shame\", \"guilt\"]\n",
        "X_all = []\n",
        "y_all = []\n",
        "for label, text in psychExp_txt:\n",
        "    y_all.append(convert_label(label, emotions))\n",
        "    X_all.append(create_feature(text, nrange=(1, 4)))"
      ],
      "metadata": {
        "id": "5J-k3736xnNx"
      },
      "execution_count": null,
      "outputs": []
    },
    {
      "cell_type": "code",
      "source": [
        "print(\"features example: \")\n",
        "print(X_all[0])"
      ],
      "metadata": {
        "id": "TouwK-BpxtYG",
        "outputId": "537cccf7-22df-4f61-f6d8-f8f9d82d0d75",
        "colab": {
          "base_uri": "https://localhost:8080/"
        }
      },
      "execution_count": null,
      "outputs": [
        {
          "output_type": "stream",
          "name": "stdout",
          "text": [
            "features example: \n",
            "Counter({'time': 2, 'we': 2, 'met': 2, 'during': 1, 'the': 1, 'period': 1, 'of': 1, 'falling': 1, 'in': 1, 'love': 1, 'each': 1, 'that': 1, 'and': 1, 'especially': 1, 'when': 1, 'had': 1, 'not': 1, 'for': 1, 'a': 1, 'long': 1, 'during the': 1, 'the period': 1, 'period of': 1, 'of falling': 1, 'falling in': 1, 'in love': 1, 'love each': 1, 'each time': 1, 'time that': 1, 'that we': 1, 'we met': 1, 'met and': 1, 'and especially': 1, 'especially when': 1, 'when we': 1, 'we had': 1, 'had not': 1, 'not met': 1, 'met for': 1, 'for a': 1, 'a long': 1, 'long time': 1, 'during the period': 1, 'the period of': 1, 'period of falling': 1, 'of falling in': 1, 'falling in love': 1, 'in love each': 1, 'love each time': 1, 'each time that': 1, 'time that we': 1, 'that we met': 1, 'we met and': 1, 'met and especially': 1, 'and especially when': 1, 'especially when we': 1, 'when we had': 1, 'we had not': 1, 'had not met': 1, 'not met for': 1, 'met for a': 1, 'for a long': 1, 'a long time': 1, 'during the period of': 1, 'the period of falling': 1, 'period of falling in': 1, 'of falling in love': 1, 'falling in love each': 1, 'in love each time': 1, 'love each time that': 1, 'each time that we': 1, 'time that we met': 1, 'that we met and': 1, 'we met and especially': 1, 'met and especially when': 1, 'and especially when we': 1, 'especially when we had': 1, 'when we had not': 1, 'we had not met': 1, 'had not met for': 1, 'not met for a': 1, 'met for a long': 1, 'for a long time': 1, ',': 1, '.': 1})\n"
          ]
        }
      ]
    },
    {
      "cell_type": "code",
      "source": [
        "print(\"Label example:\")\n",
        "print(y_all[0])"
      ],
      "metadata": {
        "id": "Tpp7qeJUx5kE",
        "outputId": "cf194fd8-a81a-415e-da42-2e99f45a0862",
        "colab": {
          "base_uri": "https://localhost:8080/"
        }
      },
      "execution_count": null,
      "outputs": [
        {
          "output_type": "stream",
          "name": "stdout",
          "text": [
            "Label example:\n",
            "joy\n"
          ]
        }
      ]
    },
    {
      "cell_type": "code",
      "source": [
        "!python -m pip install --upgrade pip"
      ],
      "metadata": {
        "colab": {
          "base_uri": "https://localhost:8080/"
        },
        "id": "DUAqxwCysNSu",
        "outputId": "80d273d3-c2e8-4788-f4ab-28db0cb8e32f"
      },
      "execution_count": null,
      "outputs": [
        {
          "output_type": "stream",
          "name": "stdout",
          "text": [
            "Requirement already satisfied: pip in /usr/local/lib/python3.10/dist-packages (23.1.2)\n",
            "Collecting pip\n",
            "  Downloading pip-24.0-py3-none-any.whl (2.1 MB)\n",
            "\u001b[2K     \u001b[90m━━━━━━━━━━━━━━━━━━━━━━━━━━━━━━━━━━━━━━━━\u001b[0m \u001b[32m2.1/2.1 MB\u001b[0m \u001b[31m25.8 MB/s\u001b[0m eta \u001b[36m0:00:00\u001b[0m\n",
            "\u001b[?25hInstalling collected packages: pip\n",
            "  Attempting uninstall: pip\n",
            "    Found existing installation: pip 23.1.2\n",
            "    Uninstalling pip-23.1.2:\n",
            "      Successfully uninstalled pip-23.1.2\n",
            "Successfully installed pip-24.0\n"
          ]
        }
      ]
    },
    {
      "cell_type": "code",
      "source": [
        "!python -m pip install --upgrade scikit-learn"
      ],
      "metadata": {
        "id": "swoDQK1ezBhD",
        "outputId": "b5cc1712-e3f0-4794-c7c7-eda0c337330d",
        "colab": {
          "base_uri": "https://localhost:8080/"
        }
      },
      "execution_count": null,
      "outputs": [
        {
          "output_type": "stream",
          "name": "stdout",
          "text": [
            "Requirement already satisfied: scikit-learn in /usr/local/lib/python3.10/dist-packages (1.2.2)\n",
            "Collecting scikit-learn\n",
            "  Downloading scikit_learn-1.4.1.post1-cp310-cp310-manylinux_2_17_x86_64.manylinux2014_x86_64.whl.metadata (11 kB)\n",
            "Requirement already satisfied: numpy<2.0,>=1.19.5 in /usr/local/lib/python3.10/dist-packages (from scikit-learn) (1.25.2)\n",
            "Requirement already satisfied: scipy>=1.6.0 in /usr/local/lib/python3.10/dist-packages (from scikit-learn) (1.11.4)\n",
            "Requirement already satisfied: joblib>=1.2.0 in /usr/local/lib/python3.10/dist-packages (from scikit-learn) (1.3.2)\n",
            "Requirement already satisfied: threadpoolctl>=2.0.0 in /usr/local/lib/python3.10/dist-packages (from scikit-learn) (3.4.0)\n",
            "Downloading scikit_learn-1.4.1.post1-cp310-cp310-manylinux_2_17_x86_64.manylinux2014_x86_64.whl (12.1 MB)\n",
            "\u001b[2K   \u001b[90m━━━━━━━━━━━━━━━━━━━━━━━━━━━━━━━━━━━━━━━━\u001b[0m \u001b[32m12.1/12.1 MB\u001b[0m \u001b[31m50.2 MB/s\u001b[0m eta \u001b[36m0:00:00\u001b[0m\n",
            "\u001b[?25hInstalling collected packages: scikit-learn\n",
            "  Attempting uninstall: scikit-learn\n",
            "    Found existing installation: scikit-learn 1.2.2\n",
            "    Uninstalling scikit-learn-1.2.2:\n",
            "      Successfully uninstalled scikit-learn-1.2.2\n",
            "Successfully installed scikit-learn-1.4.1.post1\n",
            "\u001b[33mWARNING: Running pip as the 'root' user can result in broken permissions and conflicting behaviour with the system package manager. It is recommended to use a virtual environment instead: https://pip.pypa.io/warnings/venv\u001b[0m\u001b[33m\n",
            "\u001b[0m"
          ]
        }
      ]
    },
    {
      "cell_type": "code",
      "source": [
        "import sklearn"
      ],
      "metadata": {
        "id": "FtYs-PaszIoM"
      },
      "execution_count": null,
      "outputs": []
    },
    {
      "cell_type": "code",
      "source": [
        "from sklearn.model_selection import train_test_split\n",
        "X_train, X_test, y_train, y_test = \\\n",
        "    train_test_split(X_all, y_all, test_size = 0.2, random_state = 123)"
      ],
      "metadata": {
        "id": "96ipDb8ZyN5Y"
      },
      "execution_count": null,
      "outputs": []
    },
    {
      "cell_type": "code",
      "source": [
        "from sklearn.metrics import accuracy_score\n",
        "\n",
        "def train_test(clf, X_train, X_test, y_train, y_test):\n",
        "    clf.fit(X_train, y_train)\n",
        "    train_acc = accuracy_score(y_train, clf.predict(X_train))\n",
        "    test_acc = accuracy_score(y_test, clf.predict(X_test))\n",
        "\n",
        "#     print(\"Training acc: {}\".format(train_acc))\n",
        "#     print(\"Test acc    : {}\".format(test_acc))\n",
        "\n",
        "    return train_acc, test_acc"
      ],
      "metadata": {
        "id": "dNmVbEP1ydP_"
      },
      "execution_count": null,
      "outputs": []
    },
    {
      "cell_type": "code",
      "source": [
        "from sklearn.feature_extraction import DictVectorizer\n",
        "vectorizer = DictVectorizer(sparse = True)\n",
        "X_train = vectorizer.fit_transform(X_train)\n",
        "X_test = vectorizer.transform(X_test)\n"
      ],
      "metadata": {
        "id": "WAkae_5Qyjtt"
      },
      "execution_count": null,
      "outputs": []
    },
    {
      "cell_type": "code",
      "source": [
        "from sklearn.svm import SVC\n",
        "from sklearn.svm import LinearSVC\n",
        "from sklearn.ensemble import RandomForestClassifier\n",
        "from sklearn.tree import DecisionTreeClassifier\n",
        "# Classifiers\n",
        "svc = SVC()\n",
        "lsvc = LinearSVC(random_state=123)\n",
        "rforest = RandomForestClassifier(random_state=123)\n",
        "dtree = DecisionTreeClassifier()\n",
        "clifs = [svc, lsvc, rforest, dtree]\n",
        "# train and test them\n",
        "print(\"| {:25} | {} | {} |\".format(\"Classifier\", \"Training Accuracy\", \"Test Accuracy\"))\n",
        "print(\"| {} | {} | {} |\".format(\"-\"*25, \"-\"*17, \"-\"*13))\n",
        "for clf in clifs:\n",
        "    clf_name = clf.__class__.__name__\n",
        "    train_acc, test_acc = train_test(clf, X_train, X_test, y_train, y_test)\n",
        "    print(\"| {:25} | {:17.7f} | {:13.7f} |\".format(clf_name, train_acc, test_acc))"
      ],
      "metadata": {
        "colab": {
          "base_uri": "https://localhost:8080/"
        },
        "id": "Nwuk-2JWmP4P",
        "outputId": "b3b13215-42c2-488a-ddac-455bdd479d2c"
      },
      "execution_count": null,
      "outputs": [
        {
          "output_type": "stream",
          "name": "stdout",
          "text": [
            "| Classifier                | Training Accuracy | Test Accuracy |\n",
            "| ------------------------- | ----------------- | ------------- |\n",
            "| SVC                       |         0.9067513 |     0.4512032 |\n"
          ]
        },
        {
          "output_type": "stream",
          "name": "stderr",
          "text": [
            "/usr/local/lib/python3.10/dist-packages/sklearn/svm/_base.py:1244: ConvergenceWarning: Liblinear failed to converge, increase the number of iterations.\n",
            "  warnings.warn(\n"
          ]
        },
        {
          "output_type": "stream",
          "name": "stdout",
          "text": [
            "| LinearSVC                 |         0.9988302 |     0.5768717 |\n",
            "| RandomForestClassifier    |         0.9988302 |     0.5541444 |\n",
            "| DecisionTreeClassifier    |         0.9988302 |     0.4565508 |\n"
          ]
        }
      ]
    },
    {
      "cell_type": "code",
      "source": [
        "from sklearn.model_selection import GridSearchCV"
      ],
      "metadata": {
        "id": "lDg49LGKooWF"
      },
      "execution_count": null,
      "outputs": []
    },
    {
      "cell_type": "code",
      "source": [
        "\n",
        "\n",
        "parameters = {'C':[1, 2, 3, 5, 10, 15, 20, 30, 50, 70, 100],\n",
        "             'tol':[0.1, 0.01, 0.001, 0.0001, 0.00001]}\n",
        "\n",
        "lsvc = LinearSVC(random_state=123)\n",
        "grid_obj = GridSearchCV(lsvc, param_grid = parameters, cv=5)\n",
        "grid_obj.fit(X_train, y_train)\n",
        "\n",
        "print(\"Validation acc: {}\".format(grid_obj.best_score_))\n",
        "print(\"Training acc: {}\".format(accuracy_score(y_train, grid_obj.predict(X_train))))\n",
        "print(\"Test acc    : {}\".format(accuracy_score(y_test, grid_obj.predict(X_test))))\n",
        "print(\"Best parameter: {}\".format(grid_obj.best_params_))"
      ],
      "metadata": {
        "id": "vJY3tdcPNd5-"
      },
      "execution_count": null,
      "outputs": []
    },
    {
      "cell_type": "code",
      "source": [
        "%matplotlib inline"
      ],
      "metadata": {
        "id": "PwXmfwBqrFy8"
      },
      "execution_count": null,
      "outputs": []
    },
    {
      "cell_type": "code",
      "source": [
        "import seaborn as sn"
      ],
      "metadata": {
        "id": "rucEIZD2rzuG"
      },
      "execution_count": null,
      "outputs": []
    },
    {
      "cell_type": "code",
      "source": [
        "import pandas as pd"
      ],
      "metadata": {
        "id": "Q8wUk2ftr3cn"
      },
      "execution_count": null,
      "outputs": []
    },
    {
      "cell_type": "code",
      "source": [
        "import matplotlib.pyplot as plt\n"
      ],
      "metadata": {
        "id": "ea2GYnj3r8W4"
      },
      "execution_count": null,
      "outputs": []
    },
    {
      "cell_type": "code",
      "source": [
        "from sklearn.metrics import confusion_matrix"
      ],
      "metadata": {
        "id": "B1XLhF5ht9c1"
      },
      "execution_count": null,
      "outputs": []
    },
    {
      "cell_type": "code",
      "source": [
        "sklearn.model_selection.GridSearchCV"
      ],
      "metadata": {
        "colab": {
          "base_uri": "https://localhost:8080/"
        },
        "id": "AOifFRvuw9ZW",
        "outputId": "907edf3c-39c8-4363-b5db-c4cd01cee15c"
      },
      "execution_count": null,
      "outputs": [
        {
          "output_type": "execute_result",
          "data": {
            "text/plain": [
              "sklearn.model_selection._search.GridSearchCV"
            ]
          },
          "metadata": {},
          "execution_count": 64
        }
      ]
    },
    {
      "cell_type": "code",
      "source": [
        "from sklearn.metrics import confusion_matrix\n",
        "matrix = confusion_matrix(y_test, grid_obj.predict(X_test))\n",
        "print(matrix)"
      ],
      "metadata": {
        "colab": {
          "base_uri": "https://localhost:8080/"
        },
        "id": "Fk00Pp6xjD7b",
        "outputId": "de74c5ef-ee32-4536-eb5a-4841193c5f92"
      },
      "execution_count": null,
      "outputs": [
        {
          "output_type": "stream",
          "name": "stdout",
          "text": [
            "[[112  27  16  23  12  19  19]\n",
            " [ 20 113  11  11  12  17   9]\n",
            " [  9  18 157   3  11  16  10]\n",
            " [ 19  12  15 107  12  17  36]\n",
            " [  7   9   7   7 155  18   8]\n",
            " [ 17   9  16  13  21 137  10]\n",
            " [ 31  19  10  30  17  10  82]]\n"
          ]
        }
      ]
    },
    {
      "cell_type": "code",
      "source": [
        "%matplotlib inline\n",
        "import seaborn as sn\n",
        "import pandas as pd\n",
        "import matplotlib.pyplot as plt\n",
        "\n",
        "l = [\"joy\", 'fear', \"anger\", \"sadness\", \"disgust\", \"shame\", \"guilt\"]\n",
        "l.sort()\n",
        "df_cm = pd.DataFrame(matrix, index = l, columns = l)\n",
        "plt.figure(figsize = (10,7))\n",
        "sn.heatmap(df_cm, annot=True, fmt=\"d\")\n",
        "plt.show()"
      ],
      "metadata": {
        "colab": {
          "base_uri": "https://localhost:8080/",
          "height": 428
        },
        "id": "zzC8e-3IjGcf",
        "outputId": "a4601104-b04c-4009-f7b5-af07b6bef330"
      },
      "execution_count": null,
      "outputs": [
        {
          "output_type": "display_data",
          "data": {
            "text/plain": [
              "<Figure size 720x504 with 2 Axes>"
            ],
            "image/png": "[encoded data removed]"
          },
          "metadata": {
            "needs_background": "light"
          }
        }
      ]
    },
    {
      "cell_type": "code",
      "source": [
        "# Get counts for each label\n",
        "label_freq = {}\n",
        "for label, _ in psychExp_txt:\n",
        "    label_freq[label] = label_freq.get(label, 0) + 1\n",
        "\n",
        "# print the labels and their counts in sorted order\n",
        "for l in sorted(label_freq, key=label_freq.get, reverse=True):\n",
        "    print(\"{:10}({})  {}\".format(convert_label(l, emotions), l, label_freq[l]))"
      ],
      "metadata": {
        "colab": {
          "base_uri": "https://localhost:8080/"
        },
        "id": "ZYc5_hnq3mMb",
        "outputId": "3196e0fd-9b4a-4b2e-8a85-698ce7e328c8"
      },
      "execution_count": null,
      "outputs": [
        {
          "output_type": "stream",
          "name": "stdout",
          "text": [
            "joy       (1. 0. 0. 0. 0. 0. 0.)  1084\n",
            "anger     (0. 0. 1. 0. 0. 0. 0.)  1080\n",
            "sadness   (0. 0. 0. 1. 0. 0. 0.)  1079\n",
            "fear      (0. 1. 0. 0. 0. 0. 0.)  1078\n",
            "disgust   (0. 0. 0. 0. 1. 0. 0.)  1057\n",
            "guilt     (0. 0. 0. 0. 0. 0. 1.)  1057\n",
            "shame     (0. 0. 0. 0. 0. 1. 0.)  1045\n"
          ]
        }
      ]
    },
    {
      "cell_type": "code",
      "source": [
        "!pip install emoji==1.1.0"
      ],
      "metadata": {
        "colab": {
          "base_uri": "https://localhost:8080/"
        },
        "id": "uSSZQaAMlNoW",
        "outputId": "68cd106a-e017-46b4-b2f5-4a46e40af549"
      },
      "execution_count": null,
      "outputs": [
        {
          "output_type": "stream",
          "name": "stdout",
          "text": [
            "Looking in indexes: https://pypi.org/simple, https://us-python.pkg.dev/colab-wheels/public/simple/\n",
            "Collecting emoji==1.1.0\n",
            "  Downloading emoji-1.1.0-py3-none-any.whl (132 kB)\n",
            "\u001b[K     |████████████████████████████████| 132 kB 5.0 MB/s \n",
            "\u001b[?25hInstalling collected packages: emoji\n",
            "Successfully installed emoji-1.1.0\n"
          ]
        }
      ]
    },
    {
      "cell_type": "code",
      "source": [
        "import emoji"
      ],
      "metadata": {
        "id": "Cw5yMuoElghI"
      },
      "execution_count": null,
      "outputs": []
    },
    {
      "cell_type": "code",
      "source": [
        "emoji.EMOJI_UNICODE['en']"
      ],
      "metadata": {
        "colab": {
          "base_uri": "https://localhost:8080/"
        },
        "id": "z1s_O0aMlWeO",
        "outputId": "5444b983-d900-458c-9f48-094c2255b034"
      },
      "execution_count": null,
      "outputs": [
        {
          "output_type": "execute_result",
          "data": {
            "text/plain": [
              "{':1st_place_medal:': '🥇',\n",
              " ':2nd_place_medal:': '🥈',\n",
              " ':3rd_place_medal:': '🥉',\n",
              " ':AB_button_(blood_type):': '🆎',\n",
              " ':ATM_sign:': '🏧',\n",
              " ':A_button_(blood_type):': '🅰',\n",
              " ':A_button_(blood_type)_selector:': '🅰️',\n",
              " ':Afghanistan:': '🇦🇫',\n",
              " ':Aland_Islands:': '🇦🇽',\n",
              " ':Albania:': '🇦🇱',\n",
              " ':Algeria:': '🇩🇿',\n",
              " ':American_Samoa:': '🇦🇸',\n",
              " ':Andorra:': '🇦🇩',\n",
              " ':Angola:': '🇦🇴',\n",
              " ':Anguilla:': '🇦🇮',\n",
              " ':Antarctica:': '🇦🇶',\n",
              " ':Antigua_&_Barbuda:': '🇦🇬',\n",
              " ':Aquarius:': '♒',\n",
              " ':Argentina:': '🇦🇷',\n",
              " ':Aries:': '♈',\n",
              " ':Armenia:': '🇦🇲',\n",
              " ':Aruba:': '🇦🇼',\n",
              " ':Ascension_Island:': '🇦🇨',\n",
              " ':Australia:': '🇦🇺',\n",
              " ':Austria:': '🇦🇹',\n",
              " ':Azerbaijan:': '🇦🇿',\n",
              " ':BACK_arrow:': '🔙',\n",
              " ':B_button_(blood_type):': '🅱',\n",
              " ':B_button_(blood_type)_selector:': '🅱️',\n",
              " ':Bahamas:': '🇧🇸',\n",
              " ':Bahrain:': '🇧🇭',\n",
              " ':Bangladesh:': '🇧🇩',\n",
              " ':Barbados:': '🇧🇧',\n",
              " ':Belarus:': '🇧🇾',\n",
              " ':Belgium:': '🇧🇪',\n",
              " ':Belize:': '🇧🇿',\n",
              " ':Benin:': '🇧🇯',\n",
              " ':Bermuda:': '🇧🇲',\n",
              " ':Bhutan:': '🇧🇹',\n",
              " ':Bolivia:': '🇧🇴',\n",
              " ':Bosnia_&_Herzegovina:': '🇧🇦',\n",
              " ':Botswana:': '🇧🇼',\n",
              " ':Bouvet_Island:': '🇧🇻',\n",
              " ':Brazil:': '🇧🇷',\n",
              " ':British_Indian_Ocean_Territory:': '🇮🇴',\n",
              " ':British_Virgin_Islands:': '🇻🇬',\n",
              " ':Brunei:': '🇧🇳',\n",
              " ':Bulgaria:': '🇧🇬',\n",
              " ':Burkina_Faso:': '🇧🇫',\n",
              " ':Burundi:': '🇧🇮',\n",
              " ':CL_button:': '🆑',\n",
              " ':COOL_button:': '🆒',\n",
              " ':Cambodia:': '🇰🇭',\n",
              " ':Cameroon:': '🇨🇲',\n",
              " ':Canada:': '🇨🇦',\n",
              " ':Canary_Islands:': '🇮🇨',\n",
              " ':Cancer:': '♋',\n",
              " ':Cape_Verde:': '🇨🇻',\n",
              " ':Capricorn:': '♑',\n",
              " ':Caribbean_Netherlands:': '🇧🇶',\n",
              " ':Cayman_Islands:': '🇰🇾',\n",
              " ':Central_African_Republic:': '🇨🇫',\n",
              " ':Ceuta_&_Melilla:': '🇪🇦',\n",
              " ':Chad:': '🇹🇩',\n",
              " ':Chile:': '🇨🇱',\n",
              " ':China:': '🇨🇳',\n",
              " ':Christmas_Island:': '🇨🇽',\n",
              " ':Christmas_tree:': '🎄',\n",
              " ':Clipperton_Island:': '🇨🇵',\n",
              " ':Cocos_(Keeling)_Islands:': '🇨🇨',\n",
              " ':Colombia:': '🇨🇴',\n",
              " ':Comoros:': '🇰🇲',\n",
              " ':Congo_-_Brazzaville:': '🇨🇬',\n",
              " ':Congo_-_Kinshasa:': '🇨🇩',\n",
              " ':Cook_Islands:': '🇨🇰',\n",
              " ':Costa_Rica:': '🇨🇷',\n",
              " ':Croatia:': '🇭🇷',\n",
              " ':Cuba:': '🇨🇺',\n",
              " ':Curaçao:': '🇨🇼',\n",
              " ':Cyprus:': '🇨🇾',\n",
              " ':Czechia:': '🇨🇿',\n",
              " ':Côte_d’Ivoire:': '🇨🇮',\n",
              " ':Denmark:': '🇩🇰',\n",
              " ':Diego_Garcia:': '🇩🇬',\n",
              " ':Djibouti:': '🇩🇯',\n",
              " ':Dominica:': '🇩🇲',\n",
              " ':Dominican_Republic:': '🇩🇴',\n",
              " ':END_arrow:': '🔚',\n",
              " ':Ecuador:': '🇪🇨',\n",
              " ':Egypt:': '🇪🇬',\n",
              " ':El_Salvador:': '🇸🇻',\n",
              " ':England:': '🏴\\U000e0067\\U000e0062\\U000e0065\\U000e006e\\U000e0067\\U000e007f',\n",
              " ':Equatorial_Guinea:': '🇬🇶',\n",
              " ':Eritrea:': '🇪🇷',\n",
              " ':Estonia:': '🇪🇪',\n",
              " ':Ethiopia:': '🇪🇹',\n",
              " ':European_Union:': '🇪🇺',\n",
              " ':FREE_button:': '🆓',\n",
              " ':Falkland_Islands:': '🇫🇰',\n",
              " ':Faroe_Islands:': '🇫🇴',\n",
              " ':Fiji:': '🇫🇯',\n",
              " ':Finland:': '🇫🇮',\n",
              " ':France:': '🇫🇷',\n",
              " ':French_Guiana:': '🇬🇫',\n",
              " ':French_Polynesia:': '🇵🇫',\n",
              " ':French_Southern_Territories:': '🇹🇫',\n",
              " ':Gabon:': '🇬🇦',\n",
              " ':Gambia:': '🇬🇲',\n",
              " ':Gemini:': '♊',\n",
              " ':Georgia:': '🇬🇪',\n",
              " ':Germany:': '🇩🇪',\n",
              " ':Ghana:': '🇬🇭',\n",
              " ':Gibraltar:': '🇬🇮',\n",
              " ':Greece:': '🇬🇷',\n",
              " ':Greenland:': '🇬🇱',\n",
              " ':Grenada:': '🇬🇩',\n",
              " ':Guadeloupe:': '🇬🇵',\n",
              " ':Guam:': '🇬🇺',\n",
              " ':Guatemala:': '🇬🇹',\n",
              " ':Guernsey:': '🇬🇬',\n",
              " ':Guinea-Bissau:': '🇬🇼',\n",
              " ':Guinea:': '🇬🇳',\n",
              " ':Guyana:': '🇬🇾',\n",
              " ':Haiti:': '🇭🇹',\n",
              " ':Heard_&_McDonald_Islands:': '🇭🇲',\n",
              " ':Honduras:': '🇭🇳',\n",
              " ':Hong_Kong_SAR_China:': '🇭🇰',\n",
              " ':Hungary:': '🇭🇺',\n",
              " ':ID_button:': '🆔',\n",
              " ':Iceland:': '🇮🇸',\n",
              " ':India:': '🇮🇳',\n",
              " ':Indonesia:': '🇮🇩',\n",
              " ':Iran:': '🇮🇷',\n",
              " ':Iraq:': '🇮🇶',\n",
              " ':Ireland:': '🇮🇪',\n",
              " ':Isle_of_Man:': '🇮🇲',\n",
              " ':Israel:': '🇮🇱',\n",
              " ':Italy:': '🇮🇹',\n",
              " ':Jamaica:': '🇯🇲',\n",
              " ':Japan:': '🇯🇵',\n",
              " ':Japanese_acceptable_button:': '🉑',\n",
              " ':Japanese_application_button:': '🈸',\n",
              " ':Japanese_bargain_button:': '🉐',\n",
              " ':Japanese_castle:': '🏯',\n",
              " ':Japanese_congratulations_button:': '㊗',\n",
              " ':Japanese_discount_button:': '🈹',\n",
              " ':Japanese_dolls:': '🎎',\n",
              " ':Japanese_free_of_charge_button:': '🈚',\n",
              " ':Japanese_here_button:': '🈁',\n",
              " ':Japanese_monthly_amount_button:': '🈷',\n",
              " ':Japanese_no_vacancy_button:': '🈵',\n",
              " ':Japanese_not_free_of_charge_button:': '🈶',\n",
              " ':Japanese_open_for_business_button:': '🈺',\n",
              " ':Japanese_passing_grade_button:': '🈴',\n",
              " ':Japanese_post_office:': '🏣',\n",
              " ':Japanese_prohibited_button:': '🈲',\n",
              " ':Japanese_reserved_button:': '🈯',\n",
              " ':Japanese_secret_button:': '㊙',\n",
              " ':Japanese_service_charge_button:': '🈂',\n",
              " ':Japanese_symbol_for_beginner:': '🔰',\n",
              " ':Japanese_vacancy_button:': '🈳',\n",
              " ':Japanese_congratulations_button_selector:': '㊗️',\n",
              " ':Japanese_monthly_amount_button_selector:': '🈷️',\n",
              " ':Japanese_secret_button_selector:': '㊙️',\n",
              " ':Japanese_service_charge_button_selector:': '🈂️',\n",
              " ':Jersey:': '🇯🇪',\n",
              " ':Jordan:': '🇯🇴',\n",
              " ':Kazakhstan:': '🇰🇿',\n",
              " ':Kenya:': '🇰🇪',\n",
              " ':Kiribati:': '🇰🇮',\n",
              " ':Kosovo:': '🇽🇰',\n",
              " ':Kuwait:': '🇰🇼',\n",
              " ':Kyrgyzstan:': '🇰🇬',\n",
              " ':Laos:': '🇱🇦',\n",
              " ':Latvia:': '🇱🇻',\n",
              " ':Lebanon:': '🇱🇧',\n",
              " ':Leo:': '♌',\n",
              " ':Lesotho:': '🇱🇸',\n",
              " ':Liberia:': '🇱🇷',\n",
              " ':Libra:': '♎',\n",
              " ':Libya:': '🇱🇾',\n",
              " ':Liechtenstein:': '🇱🇮',\n",
              " ':Lithuania:': '🇱🇹',\n",
              " ':Luxembourg:': '🇱🇺',\n",
              " ':Macau_SAR_China:': '🇲🇴',\n",
              " ':Macedonia:': '🇲🇰',\n",
              " ':Madagascar:': '🇲🇬',\n",
              " ':Malawi:': '🇲🇼',\n",
              " ':Malaysia:': '🇲🇾',\n",
              " ':Maldives:': '🇲🇻',\n",
              " ':Mali:': '🇲🇱',\n",
              " ':Malta:': '🇲🇹',\n",
              " ':Marshall_Islands:': '🇲🇭',\n",
              " ':Martinique:': '🇲🇶',\n",
              " ':Mauritania:': '🇲🇷',\n",
              " ':Mauritius:': '🇲🇺',\n",
              " ':Mayotte:': '🇾🇹',\n",
              " ':Mexico:': '🇲🇽',\n",
              " ':Micronesia:': '🇫🇲',\n",
              " ':Moldova:': '🇲🇩',\n",
              " ':Monaco:': '🇲🇨',\n",
              " ':Mongolia:': '🇲🇳',\n",
              " ':Montenegro:': '🇲🇪',\n",
              " ':Montserrat:': '🇲🇸',\n",
              " ':Morocco:': '🇲🇦',\n",
              " ':Mozambique:': '🇲🇿',\n",
              " ':Mrs._Claus:': '🤶',\n",
              " ':Mrs._Claus_dark_skin_tone:': '🤶🏿',\n",
              " ':Mrs._Claus_light_skin_tone:': '🤶🏻',\n",
              " ':Mrs._Claus_medium-dark_skin_tone:': '🤶🏾',\n",
              " ':Mrs._Claus_medium-light_skin_tone:': '🤶🏼',\n",
              " ':Mrs._Claus_medium_skin_tone:': '🤶🏽',\n",
              " ':Myanmar_(Burma):': '🇲🇲',\n",
              " ':NEW_button:': '🆕',\n",
              " ':NG_button:': '🆖',\n",
              " ':Namibia:': '🇳🇦',\n",
              " ':Nauru:': '🇳🇷',\n",
              " ':Nepal:': '🇳🇵',\n",
              " ':Netherlands:': '🇳🇱',\n",
              " ':New_Caledonia:': '🇳🇨',\n",
              " ':New_Zealand:': '🇳🇿',\n",
              " ':Nicaragua:': '🇳🇮',\n",
              " ':Niger:': '🇳🇪',\n",
              " ':Nigeria:': '🇳🇬',\n",
              " ':Niue:': '🇳🇺',\n",
              " ':Norfolk_Island:': '🇳🇫',\n",
              " ':North_Korea:': '🇰🇵',\n",
              " ':Northern_Mariana_Islands:': '🇲🇵',\n",
              " ':Norway:': '🇳🇴',\n",
              " ':OK_button:': '🆗',\n",
              " ':OK_hand:': '👌',\n",
              " ':OK_hand_dark_skin_tone:': '👌🏿',\n",
              " ':OK_hand_light_skin_tone:': '👌🏻',\n",
              " ':OK_hand_medium-dark_skin_tone:': '👌🏾',\n",
              " ':OK_hand_medium-light_skin_tone:': '👌🏼',\n",
              " ':OK_hand_medium_skin_tone:': '👌🏽',\n",
              " ':ON!_arrow:': '🔛',\n",
              " ':O_button_(blood_type):': '🅾',\n",
              " ':O_button_(blood_type)_selector:': '🅾️',\n",
              " ':Oman:': '🇴🇲',\n",
              " ':Ophiuchus:': '⛎',\n",
              " ':P_button:': '🅿',\n",
              " ':P_button_selector:': '🅿️',\n",
              " ':Pakistan:': '🇵🇰',\n",
              " ':Palau:': '🇵🇼',\n",
              " ':Palestinian_Territories:': '🇵🇸',\n",
              " ':Panama:': '🇵🇦',\n",
              " ':Papua_New_Guinea:': '🇵🇬',\n",
              " ':Paraguay:': '🇵🇾',\n",
              " ':Peru:': '🇵🇪',\n",
              " ':Philippines:': '🇵🇭',\n",
              " ':Pisces:': '♓',\n",
              " ':Pitcairn_Islands:': '🇵🇳',\n",
              " ':Poland:': '🇵🇱',\n",
              " ':Portugal:': '🇵🇹',\n",
              " ':Puerto_Rico:': '🇵🇷',\n",
              " ':Qatar:': '🇶🇦',\n",
              " ':Romania:': '🇷🇴',\n",
              " ':Russia:': '🇷🇺',\n",
              " ':Rwanda:': '🇷🇼',\n",
              " ':Réunion:': '🇷🇪',\n",
              " ':SOON_arrow:': '🔜',\n",
              " ':SOS_button:': '🆘',\n",
              " ':Sagittarius:': '♐',\n",
              " ':Samoa:': '🇼🇸',\n",
              " ':San_Marino:': '🇸🇲',\n",
              " ':Santa_Claus:': '🎅',\n",
              " ':Santa_Claus_dark_skin_tone:': '🎅🏿',\n",
              " ':Santa_Claus_light_skin_tone:': '🎅🏻',\n",
              " ':Santa_Claus_medium-dark_skin_tone:': '🎅🏾',\n",
              " ':Santa_Claus_medium-light_skin_tone:': '🎅🏼',\n",
              " ':Santa_Claus_medium_skin_tone:': '🎅🏽',\n",
              " ':Saudi_Arabia:': '🇸🇦',\n",
              " ':Scorpio:': '♏',\n",
              " ':Scotland:': '🏴\\U000e0067\\U000e0062\\U000e0073\\U000e0063\\U000e0074\\U000e007f',\n",
              " ':Senegal:': '🇸🇳',\n",
              " ':Serbia:': '🇷🇸',\n",
              " ':Seychelles:': '🇸🇨',\n",
              " ':Sierra_Leone:': '🇸🇱',\n",
              " ':Singapore:': '🇸🇬',\n",
              " ':Sint_Maarten:': '🇸🇽',\n",
              " ':Slovakia:': '🇸🇰',\n",
              " ':Slovenia:': '🇸🇮',\n",
              " ':Solomon_Islands:': '🇸🇧',\n",
              " ':Somalia:': '🇸🇴',\n",
              " ':South_Africa:': '🇿🇦',\n",
              " ':South_Georgia_&_South_Sandwich_Islands:': '🇬🇸',\n",
              " ':South_Korea:': '🇰🇷',\n",
              " ':South_Sudan:': '🇸🇸',\n",
              " ':Spain:': '🇪🇸',\n",
              " ':Sri_Lanka:': '🇱🇰',\n",
              " ':St._Barthélemy:': '🇧🇱',\n",
              " ':St._Helena:': '🇸🇭',\n",
              " ':St._Kitts_&_Nevis:': '🇰🇳',\n",
              " ':St._Lucia:': '🇱🇨',\n",
              " ':St._Martin:': '🇲🇫',\n",
              " ':St._Pierre_&_Miquelon:': '🇵🇲',\n",
              " ':St._Vincent_&_Grenadines:': '🇻🇨',\n",
              " ':Statue_of_Liberty:': '🗽',\n",
              " ':Sudan:': '🇸🇩',\n",
              " ':Suriname:': '🇸🇷',\n",
              " ':Svalbard_&_Jan_Mayen:': '🇸🇯',\n",
              " ':Swaziland:': '🇸🇿',\n",
              " ':Sweden:': '🇸🇪',\n",
              " ':Switzerland:': '🇨🇭',\n",
              " ':Syria:': '🇸🇾',\n",
              " ':São_Tomé_&_Príncipe:': '🇸🇹',\n",
              " ':T-Rex:': '🦖',\n",
              " ':TOP_arrow:': '🔝',\n",
              " ':Taiwan:': '🇹🇼',\n",
              " ':Tajikistan:': '🇹🇯',\n",
              " ':Tanzania:': '🇹🇿',\n",
              " ':Taurus:': '♉',\n",
              " ':Thailand:': '🇹🇭',\n",
              " ':Timor-Leste:': '🇹🇱',\n",
              " ':Togo:': '🇹🇬',\n",
              " ':Tokelau:': '🇹🇰',\n",
              " ':Tokyo_tower:': '🗼',\n",
              " ':Tonga:': '🇹🇴',\n",
              " ':Trinidad_&_Tobago:': '🇹🇹',\n",
              " ':Tristan_da_Cunha:': '🇹🇦',\n",
              " ':Tunisia:': '🇹🇳',\n",
              " ':Turkey:': '🇹🇷',\n",
              " ':Turkmenistan:': '🇹🇲',\n",
              " ':Turks_&_Caicos_Islands:': '🇹🇨',\n",
              " ':Tuvalu:': '🇹🇻',\n",
              " ':U.S._Outlying_Islands:': '🇺🇲',\n",
              " ':U.S._Virgin_Islands:': '🇻🇮',\n",
              " ':UP!_button:': '🆙',\n",
              " ':Uganda:': '🇺🇬',\n",
              " ':Ukraine:': '🇺🇦',\n",
              " ':United_Arab_Emirates:': '🇦🇪',\n",
              " ':United_Kingdom:': '🇬🇧',\n",
              " ':United_Nations:': '🇺🇳',\n",
              " ':United_States:': '🇺🇸',\n",
              " ':Uruguay:': '🇺🇾',\n",
              " ':Uzbekistan:': '🇺🇿',\n",
              " ':VS_button:': '🆚',\n",
              " ':Vanuatu:': '🇻🇺',\n",
              " ':Vatican_City:': '🇻🇦',\n",
              " ':Venezuela:': '🇻🇪',\n",
              " ':Vietnam:': '🇻🇳',\n",
              " ':Virgo:': '♍',\n",
              " ':Wales:': '🏴\\U000e0067\\U000e0062\\U000e0077\\U000e006c\\U000e0073\\U000e007f',\n",
              " ':Wallis_&_Futuna:': '🇼🇫',\n",
              " ':Western_Sahara:': '🇪🇭',\n",
              " ':Yemen:': '🇾🇪',\n",
              " ':Zambia:': '🇿🇲',\n",
              " ':Zimbabwe:': '🇿🇼',\n",
              " ':abacus:': '🧮',\n",
              " ':adhesive_bandage:': '\\U0001fa79',\n",
              " ':admission_tickets:': '🎟',\n",
              " ':admission_tickets_selector:': '🎟️',\n",
              " ':adult:': '🧑',\n",
              " ':adult_dark_skin_tone:': '🧑🏿',\n",
              " ':adult_light_skin_tone:': '🧑🏻',\n",
              " ':adult_medium-dark_skin_tone:': '🧑🏾',\n",
              " ':adult_medium-light_skin_tone:': '🧑🏼',\n",
              " ':adult_medium_skin_tone:': '🧑🏽',\n",
              " ':aerial_tramway:': '🚡',\n",
              " ':airplane:': '✈',\n",
              " ':airplane_arrival:': '🛬',\n",
              " ':airplane_departure:': '🛫',\n",
              " ':airplane_selector:': '✈️',\n",
              " ':alarm_clock:': '⏰',\n",
              " ':alembic:': '⚗',\n",
              " ':alembic_selector:': '⚗️',\n",
              " ':alien:': '👽',\n",
              " ':alien_monster:': '👾',\n",
              " ':ambulance:': '🚑',\n",
              " ':american_football:': '🏈',\n",
              " ':amphora:': '🏺',\n",
              " ':anchor:': '⚓',\n",
              " ':anger_symbol:': '💢',\n",
              " ':angry_face:': '😠',\n",
              " ':angry_face_with_horns:': '👿',\n",
              " ':anguished_face:': '😧',\n",
              " ':ant:': '🐜',\n",
              " ':antenna_bars:': '📶',\n",
              " ':anxious_face_with_sweat:': '😰',\n",
              " ':articulated_lorry:': '🚛',\n",
              " ':artist_palette:': '🎨',\n",
              " ':astonished_face:': '😲',\n",
              " ':atom_symbol:': '⚛',\n",
              " ':atom_symbol_selector:': '⚛️',\n",
              " ':auto_rickshaw:': '\\U0001f6fa',\n",
              " ':automobile:': '🚗',\n",
              " ':avocado:': '🥑',\n",
              " ':axe:': '\\U0001fa93',\n",
              " ':baby:': '👶',\n",
              " ':baby_angel:': '👼',\n",
              " ':baby_angel_dark_skin_tone:': '👼🏿',\n",
              " ':baby_angel_light_skin_tone:': '👼🏻',\n",
              " ':baby_angel_medium-dark_skin_tone:': '👼🏾',\n",
              " ':baby_angel_medium-light_skin_tone:': '👼🏼',\n",
              " ':baby_angel_medium_skin_tone:': '👼🏽',\n",
              " ':baby_bottle:': '🍼',\n",
              " ':baby_chick:': '🐤',\n",
              " ':baby_dark_skin_tone:': '👶🏿',\n",
              " ':baby_light_skin_tone:': '👶🏻',\n",
              " ':baby_medium-dark_skin_tone:': '👶🏾',\n",
              " ':baby_medium-light_skin_tone:': '👶🏼',\n",
              " ':baby_medium_skin_tone:': '👶🏽',\n",
              " ':baby_symbol:': '🚼',\n",
              " ':backhand_index_pointing_down:': '👇',\n",
              " ':backhand_index_pointing_down_dark_skin_tone:': '👇🏿',\n",
              " ':backhand_index_pointing_down_light_skin_tone:': '👇🏻',\n",
              " ':backhand_index_pointing_down_medium-dark_skin_tone:': '👇🏾',\n",
              " ':backhand_index_pointing_down_medium-light_skin_tone:': '👇🏼',\n",
              " ':backhand_index_pointing_down_medium_skin_tone:': '👇🏽',\n",
              " ':backhand_index_pointing_left:': '👈',\n",
              " ':backhand_index_pointing_left_dark_skin_tone:': '👈🏿',\n",
              " ':backhand_index_pointing_left_light_skin_tone:': '👈🏻',\n",
              " ':backhand_index_pointing_left_medium-dark_skin_tone:': '👈🏾',\n",
              " ':backhand_index_pointing_left_medium-light_skin_tone:': '👈🏼',\n",
              " ':backhand_index_pointing_left_medium_skin_tone:': '👈🏽',\n",
              " ':backhand_index_pointing_right:': '👉',\n",
              " ':backhand_index_pointing_right_dark_skin_tone:': '👉🏿',\n",
              " ':backhand_index_pointing_right_light_skin_tone:': '👉🏻',\n",
              " ':backhand_index_pointing_right_medium-dark_skin_tone:': '👉🏾',\n",
              " ':backhand_index_pointing_right_medium-light_skin_tone:': '👉🏼',\n",
              " ':backhand_index_pointing_right_medium_skin_tone:': '👉🏽',\n",
              " ':backhand_index_pointing_up:': '👆',\n",
              " ':backhand_index_pointing_up_dark_skin_tone:': '👆🏿',\n",
              " ':backhand_index_pointing_up_light_skin_tone:': '👆🏻',\n",
              " ':backhand_index_pointing_up_medium-dark_skin_tone:': '👆🏾',\n",
              " ':backhand_index_pointing_up_medium-light_skin_tone:': '👆🏼',\n",
              " ':backhand_index_pointing_up_medium_skin_tone:': '👆🏽',\n",
              " ':bacon:': '🥓',\n",
              " ':badger:': '🦡',\n",
              " ':badminton:': '🏸',\n",
              " ':bagel:': '🥯',\n",
              " ':baggage_claim:': '🛄',\n",
              " ':baguette_bread:': '🥖',\n",
              " ':balance_scale:': '⚖',\n",
              " ':balance_scale_selector:': '⚖️',\n",
              " ':bald:': '🦲',\n",
              " ':bald_man:': '👨\\u200d🦲',\n",
              " ':bald_woman:': '👩\\u200d🦲',\n",
              " ':ballet_shoes:': '\\U0001fa70',\n",
              " ':balloon:': '🎈',\n",
              " ':ballot_box_with_ballot:': '🗳',\n",
              " ':ballot_box_with_ballot_selector:': '🗳️',\n",
              " ':ballot_box_with_check:': '☑',\n",
              " ':banana:': '🍌',\n",
              " ':banjo:': '\\U0001fa95',\n",
              " ':bank:': '🏦',\n",
              " ':bar_chart:': '📊',\n",
              " ':barber_pole:': '💈',\n",
              " ':baseball:': '⚾',\n",
              " ':basket:': '🧺',\n",
              " ':basketball:': '🏀',\n",
              " ':bat:': '🦇',\n",
              " ':bathtub:': '🛁',\n",
              " ':battery:': '🔋',\n",
              " ':beach_with_umbrella:': '🏖',\n",
              " ':beach_with_umbrella_selector:': '🏖️',\n",
              " ':beaming_face_with_smiling_eyes:': '😁',\n",
              " ':bear_face:': '🐻',\n",
              " ':bearded_person:': '🧔',\n",
              " ':bearded_person_dark_skin_tone:': '🧔🏿',\n",
              " ':bearded_person_light_skin_tone:': '🧔🏻',\n",
              " ':bearded_person_medium-dark_skin_tone:': '🧔🏾',\n",
              " ':bearded_person_medium-light_skin_tone:': '🧔🏼',\n",
              " ':bearded_person_medium_skin_tone:': '🧔🏽',\n",
              " ':beating_heart:': '💓',\n",
              " ':bed:': '🛏',\n",
              " ':bed_selector:': '🛏️',\n",
              " ':beer_mug:': '🍺',\n",
              " ':bell:': '🔔',\n",
              " ':bell_with_slash:': '🔕',\n",
              " ':bellhop_bell:': '🛎',\n",
              " ':bellhop_bell_selector:': '🛎️',\n",
              " ':bento_box:': '🍱',\n",
              " ':beverage_box:': '\\U0001f9c3',\n",
              " ':bicycle:': '🚲',\n",
              " ':bikini:': '👙',\n",
              " ':billed_cap:': '🧢',\n",
              " ':biohazard:': '☣',\n",
              " ':biohazard_selector:': '☣️',\n",
              " ':bird:': '🐦',\n",
              " ':birthday_cake:': '🎂',\n",
              " ':black_circle:': '⚫',\n",
              " ':black_flag:': '🏴',\n",
              " ':black_heart:': '🖤',\n",
              " ':black_large_square:': '⬛',\n",
              " ':black_medium-small_square:': '◾',\n",
              " ':black_medium_square:': '◼',\n",
              " ':black_medium_square_selector:': '◼️',\n",
              " ':black_nib:': '✒',\n",
              " ':black_nib_selector:': '✒️',\n",
              " ':black_small_square:': '▪',\n",
              " ':black_small_square_selector:': '▪️',\n",
              " ':black_square_button:': '🔲',\n",
              " ':blond-haired_man:': '👱\\u200d♂️',\n",
              " ':blond-haired_man_dark_skin_tone:': '👱🏿\\u200d♂️',\n",
              " ':blond-haired_man_light_skin_tone:': '👱🏻\\u200d♂️',\n",
              " ':blond-haired_man_medium-dark_skin_tone:': '👱🏾\\u200d♂️',\n",
              " ':blond-haired_man_medium-light_skin_tone:': '👱🏼\\u200d♂️',\n",
              " ':blond-haired_man_medium_skin_tone:': '👱🏽\\u200d♂️',\n",
              " ':blond-haired_person:': '👱',\n",
              " ':blond-haired_person_dark_skin_tone:': '👱🏿',\n",
              " ':blond-haired_person_light_skin_tone:': '👱🏻',\n",
              " ':blond-haired_person_medium-dark_skin_tone:': '👱🏾',\n",
              " ':blond-haired_person_medium-light_skin_tone:': '👱🏼',\n",
              " ':blond-haired_person_medium_skin_tone:': '👱🏽',\n",
              " ':blond-haired_woman:': '👱\\u200d♀️',\n",
              " ':blond-haired_woman_dark_skin_tone:': '👱🏿\\u200d♀️',\n",
              " ':blond-haired_woman_light_skin_tone:': '👱🏻\\u200d♀️',\n",
              " ':blond-haired_woman_medium-dark_skin_tone:': '👱🏾\\u200d♀️',\n",
              " ':blond-haired_woman_medium-light_skin_tone:': '👱🏼\\u200d♀️',\n",
              " ':blond-haired_woman_medium_skin_tone:': '👱🏽\\u200d♀️',\n",
              " ':blossom:': '🌼',\n",
              " ':blowfish:': '🐡',\n",
              " ':blue_book:': '📘',\n",
              " ':blue_circle:': '🔵',\n",
              " ':blue_heart:': '💙',\n",
              " ':blue_square:': '\\U0001f7e6',\n",
              " ':boar:': '🐗',\n",
              " ':bomb:': '💣',\n",
              " ':bone:': '🦴',\n",
              " ':bookmark:': '🔖',\n",
              " ':bookmark_tabs:': '📑',\n",
              " ':books:': '📚',\n",
              " ':bottle_with_popping_cork:': '🍾',\n",
              " ':bouquet:': '💐',\n",
              " ':bow_and_arrow:': '🏹',\n",
              " ':bowl_with_spoon:': '🥣',\n",
              " ':bowling:': '🎳',\n",
              " ':boxing_glove:': '🥊',\n",
              " ':boy:': '👦',\n",
              " ':boy_dark_skin_tone:': '👦🏿',\n",
              " ':boy_light_skin_tone:': '👦🏻',\n",
              " ':boy_medium-dark_skin_tone:': '👦🏾',\n",
              " ':boy_medium-light_skin_tone:': '👦🏼',\n",
              " ':boy_medium_skin_tone:': '👦🏽',\n",
              " ':brain:': '🧠',\n",
              " ':bread:': '🍞',\n",
              " ':breast-feeding:': '🤱',\n",
              " ':breast-feeding_dark_skin_tone:': '🤱🏿',\n",
              " ':breast-feeding_light_skin_tone:': '🤱🏻',\n",
              " ':breast-feeding_medium-dark_skin_tone:': '🤱🏾',\n",
              " ':breast-feeding_medium-light_skin_tone:': '🤱🏼',\n",
              " ':breast-feeding_medium_skin_tone:': '🤱🏽',\n",
              " ':brick:': '🧱',\n",
              " ':bride_with_veil:': '👰',\n",
              " ':bride_with_veil_dark_skin_tone:': '👰🏿',\n",
              " ':bride_with_veil_light_skin_tone:': '👰🏻',\n",
              " ':bride_with_veil_medium-dark_skin_tone:': '👰🏾',\n",
              " ':bride_with_veil_medium-light_skin_tone:': '👰🏼',\n",
              " ':bride_with_veil_medium_skin_tone:': '👰🏽',\n",
              " ':bridge_at_night:': '🌉',\n",
              " ':briefcase:': '💼',\n",
              " ':briefs:': '\\U0001fa72',\n",
              " ':bright_button:': '🔆',\n",
              " ':broccoli:': '🥦',\n",
              " ':broken_heart:': '💔',\n",
              " ':broom:': '🧹',\n",
              " ':brown_circle:': '\\U0001f7e4',\n",
              " ':brown_heart:': '\\U0001f90e',\n",
              " ':brown_square:': '\\U0001f7eb',\n",
              " ':bug:': '🐛',\n",
              " ':building_construction:': '🏗',\n",
              " ':building_construction_selector:': '🏗️',\n",
              " ':bullet_train:': '🚅',\n",
              " ':burrito:': '🌯',\n",
              " ':bus:': '🚌',\n",
              " ':bus_stop:': '🚏',\n",
              " ':bust_in_silhouette:': '👤',\n",
              " ':busts_in_silhouette:': '👥',\n",
              " ':butter:': '\\U0001f9c8',\n",
              " ':butterfly:': '🦋',\n",
              " ':cactus:': '🌵',\n",
              " ':calendar:': '📅',\n",
              " ':call_me_hand:': '🤙',\n",
              " ':call_me_hand_dark_skin_tone:': '🤙🏿',\n",
              " ':call_me_hand_light_skin_tone:': '🤙🏻',\n",
              " ':call_me_hand_medium-dark_skin_tone:': '🤙🏾',\n",
              " ':call_me_hand_medium-light_skin_tone:': '🤙🏼',\n",
              " ':call_me_hand_medium_skin_tone:': '🤙🏽',\n",
              " ':camel:': '🐪',\n",
              " ':camera:': '📷',\n",
              " ':camera_with_flash:': '📸',\n",
              " ':camping:': '🏕',\n",
              " ':camping_selector:': '🏕️',\n",
              " ':candle:': '🕯',\n",
              " ':candle_selector:': '🕯️',\n",
              " ':candy:': '🍬',\n",
              " ':canned_food:': '🥫',\n",
              " ':canoe:': '🛶',\n",
              " ':card_file_box:': '🗃',\n",
              " ':card_file_box_selector:': '🗃️',\n",
              " ':card_index:': '📇',\n",
              " ':card_index_dividers:': '🗂',\n",
              " ':card_index_dividers_selector:': '🗂️',\n",
              " ':carousel_horse:': '🎠',\n",
              " ':carp_streamer:': '🎏',\n",
              " ':carrot:': '🥕',\n",
              " ':castle:': '🏰',\n",
              " ':cat:': '🐈',\n",
              " ':cat_face:': '🐱',\n",
              " ':cat_face_with_tears_of_joy:': '😹',\n",
              " ':cat_face_with_wry_smile:': '😼',\n",
              " ':chains:': '⛓',\n",
              " ':chains_selector:': '⛓️',\n",
              " ':chair:': '\\U0001fa91',\n",
              " ':chart_decreasing:': '📉',\n",
              " ':chart_increasing:': '📈',\n",
              " ':chart_increasing_with_yen:': '💹',\n",
              " ':check_box_with_check:': '☑️',\n",
              " ':check_mark:': '✔️',\n",
              " ':cheese_wedge:': '🧀',\n",
              " ':chequered_flag:': '🏁',\n",
              " ':cherries:': '🍒',\n",
              " ':cherry_blossom:': '🌸',\n",
              " ':chess_pawn:': '♟',\n",
              " ':chess_pawn_selector:': '♟️',\n",
              " ':chestnut:': '🌰',\n",
              " ':chicken:': '🐔',\n",
              " ':child:': '🧒',\n",
              " ':child_dark_skin_tone:': '🧒🏿',\n",
              " ':child_light_skin_tone:': '🧒🏻',\n",
              " ':child_medium-dark_skin_tone:': '🧒🏾',\n",
              " ':child_medium-light_skin_tone:': '🧒🏼',\n",
              " ':child_medium_skin_tone:': '🧒🏽',\n",
              " ':children_crossing:': '🚸',\n",
              " ':chipmunk:': '🐿',\n",
              " ':chipmunk_selector:': '🐿️',\n",
              " ':chocolate_bar:': '🍫',\n",
              " ':chopsticks:': '🥢',\n",
              " ':church:': '⛪',\n",
              " ':cigarette:': '🚬',\n",
              " ':cinema:': '🎦',\n",
              " ':circled_M:': 'Ⓜ',\n",
              " ':circled_M_selector:': 'Ⓜ️',\n",
              " ':circus_tent:': '🎪',\n",
              " ':cityscape:': '🏙',\n",
              " ':cityscape_at_dusk:': '🌆',\n",
              " ':cityscape_selector:': '🏙️',\n",
              " ':clamp:': '🗜',\n",
              " ':clamp_selector:': '🗜️',\n",
              " ':clapper_board:': '🎬',\n",
              " ':clapping_hands:': '👏',\n",
              " ':clapping_hands_dark_skin_tone:': '👏🏿',\n",
              " ':clapping_hands_light_skin_tone:': '👏🏻',\n",
              " ':clapping_hands_medium-dark_skin_tone:': '👏🏾',\n",
              " ':clapping_hands_medium-light_skin_tone:': '👏🏼',\n",
              " ':clapping_hands_medium_skin_tone:': '👏🏽',\n",
              " ':classical_building:': '🏛',\n",
              " ':classical_building_selector:': '🏛️',\n",
              " ':clinking_beer_mugs:': '🍻',\n",
              " ':clinking_glasses:': '🥂',\n",
              " ':clipboard:': '📋',\n",
              " ':clockwise_vertical_arrows:': '🔃',\n",
              " ':closed_book:': '📕',\n",
              " ':closed_mailbox_with_lowered_flag:': '📪',\n",
              " ':closed_mailbox_with_raised_flag:': '📫',\n",
              " ':closed_umbrella:': '🌂',\n",
              " ':cloud:': '☁',\n",
              " ':cloud_selector:': '☁️',\n",
              " ':cloud_with_lightning:': '🌩',\n",
              " ':cloud_with_lightning_and_rain:': '⛈',\n",
              " ':cloud_with_lightning_and_rain_selector:': '⛈️',\n",
              " ':cloud_with_lightning_selector:': '🌩️',\n",
              " ':cloud_with_rain:': '🌧',\n",
              " ':cloud_with_rain_selector:': '🌧️',\n",
              " ':cloud_with_snow:': '🌨',\n",
              " ':cloud_with_snow_selector:': '🌨️',\n",
              " ':clown_face:': '🤡',\n",
              " ':club_suit:': '♣',\n",
              " ':club_suit_selector:': '♣️',\n",
              " ':clutch_bag:': '👝',\n",
              " ':coat:': '🧥',\n",
              " ':cocktail_glass:': '🍸',\n",
              " ':coconut:': '🥥',\n",
              " ':coffin:': '⚰',\n",
              " ':coffin_selector:': '⚰️',\n",
              " ':cold_face:': '🥶',\n",
              " ':collision:': '💥',\n",
              " ':comet:': '☄',\n",
              " ':comet_selector:': '☄️',\n",
              " ':compass:': '🧭',\n",
              " ':computer_disk:': '💽',\n",
              " ':computer_mouse:': '🖱',\n",
              " ':computer_mouse_selector:': '🖱️',\n",
              " ':confetti_ball:': '🎊',\n",
              " ':confounded_face:': '😖',\n",
              " ':confused_face:': '😕',\n",
              " ':construction:': '🚧',\n",
              " ':construction_worker:': '👷',\n",
              " ':construction_worker_dark_skin_tone:': '👷🏿',\n",
              " ':construction_worker_light_skin_tone:': '👷🏻',\n",
              " ':construction_worker_medium-dark_skin_tone:': '👷🏾',\n",
              " ':construction_worker_medium-light_skin_tone:': '👷🏼',\n",
              " ':construction_worker_medium_skin_tone:': '👷🏽',\n",
              " ':control_knobs:': '🎛',\n",
              " ':control_knobs_selector:': '🎛️',\n",
              " ':convenience_store:': '🏪',\n",
              " ':cooked_rice:': '🍚',\n",
              " ':cookie:': '🍪',\n",
              " ':cooking:': '🍳',\n",
              " ':copyright:': '©',\n",
              " ':copyright_selector:': '©️',\n",
              " ':couch_and_lamp:': '🛋',\n",
              " ':couch_and_lamp_selector:': '🛋️',\n",
              " ':counterclockwise_arrows_button:': '🔄',\n",
              " ':couple_with_heart-man-man:': '👨\\u200d❤\\u200d👨',\n",
              " ':couple_with_heart-woman-man:': '👩\\u200d❤\\u200d👨',\n",
              " ':couple_with_heart-woman-woman:': '👩\\u200d❤\\u200d👩',\n",
              " ':couple_with_heart:': '💑',\n",
              " ':couple_with_heart_man_man:': '👨\\u200d❤️\\u200d👨',\n",
              " ':couple_with_heart_woman_man:': '👩\\u200d❤️\\u200d👨',\n",
              " ':couple_with_heart_woman_woman:': '👩\\u200d❤️\\u200d👩',\n",
              " ':cow:': '🐄',\n",
              " ':cow_face:': '🐮',\n",
              " ':cowboy_hat_face:': '🤠',\n",
              " ':crab:': '🦀',\n",
              " ':crayon:': '🖍',\n",
              " ':crayon_selector:': '🖍️',\n",
              " ':credit_card:': '💳',\n",
              " ':crescent_moon:': '🌙',\n",
              " ':cricket:': '🦗',\n",
              " ':cricket_game:': '🏏',\n",
              " ':crocodile:': '🐊',\n",
              " ':croissant:': '🥐',\n",
              " ':cross_mark:': '❌',\n",
              " ':cross_mark_button:': '❎',\n",
              " ':crossed_fingers:': '🤞',\n",
              " ':crossed_fingers_dark_skin_tone:': '🤞🏿',\n",
              " ':crossed_fingers_light_skin_tone:': '🤞🏻',\n",
              " ':crossed_fingers_medium-dark_skin_tone:': '🤞🏾',\n",
              " ':crossed_fingers_medium-light_skin_tone:': '🤞🏼',\n",
              " ':crossed_fingers_medium_skin_tone:': '🤞🏽',\n",
              " ':crossed_flags:': '🎌',\n",
              " ':crossed_swords:': '⚔',\n",
              " ':crossed_swords_selector:': '⚔️',\n",
              " ':crown:': '👑',\n",
              " ':crying_cat_face:': '😿',\n",
              " ':crying_face:': '😢',\n",
              " ':crystal_ball:': '🔮',\n",
              " ':cucumber:': '🥒',\n",
              " ':cup_with_straw:': '🥤',\n",
              " ':cupcake:': '🧁',\n",
              " ':curling_stone:': '🥌',\n",
              " ':curly-haired_man:': '👨\\u200d🦱',\n",
              " ':curly-haired_woman:': '👩\\u200d🦱',\n",
              " ':curly_hair:': '🦱',\n",
              " ':curly_loop:': '➰',\n",
              " ':currency_exchange:': '💱',\n",
              " ':curry_rice:': '🍛',\n",
              " ':custard:': '🍮',\n",
              " ':customs:': '🛃',\n",
              " ':cut_of_meat:': '🥩',\n",
              " ':cyclone:': '🌀',\n",
              " ':dagger:': '🗡',\n",
              " ':dagger_selector:': '🗡️',\n",
              " ':dango:': '🍡',\n",
              " ':dark_skin_tone:': '🏿',\n",
              " ':dashing_away:': '💨',\n",
              " ':deaf_man-dark_skin_tone:': '\\U0001f9cf🏿\\u200d♂',\n",
              " ':deaf_man-dark_skin_tone_selector:': '\\U0001f9cf🏿\\u200d♂️',\n",
              " ':deaf_man-light_skin_tone:': '\\U0001f9cf🏻\\u200d♂',\n",
              " ':deaf_man-light_skin_tone_selector:': '\\U0001f9cf🏻\\u200d♂️',\n",
              " ':deaf_man-medium-dark_skin_tone:': '\\U0001f9cf🏾\\u200d♂',\n",
              " ':deaf_man-medium-dark_skin_tone_selector:': '\\U0001f9cf🏾\\u200d♂️',\n",
              " ':deaf_man-medium-light_skin_tone:': '\\U0001f9cf🏼\\u200d♂',\n",
              " ':deaf_man-medium-light_skin_tone_selector:': '\\U0001f9cf🏼\\u200d♂️',\n",
              " ':deaf_man-medium_skin_tone:': '\\U0001f9cf🏽\\u200d♂',\n",
              " ':deaf_man-medium_skin_tone_selector:': '\\U0001f9cf🏽\\u200d♂️',\n",
              " ':deaf_man:': '\\U0001f9cf\\u200d♂',\n",
              " ':deaf_man_selector:': '\\U0001f9cf\\u200d♂️',\n",
              " ':deaf_person-dark_skin_tone:': '\\U0001f9cf🏿',\n",
              " ':deaf_person-light_skin_tone:': '\\U0001f9cf🏻',\n",
              " ':deaf_person-medium-dark_skin_tone:': '\\U0001f9cf🏾',\n",
              " ':deaf_person-medium-light_skin_tone:': '\\U0001f9cf🏼',\n",
              " ':deaf_person-medium_skin_tone:': '\\U0001f9cf🏽',\n",
              " ':deaf_person:': '\\U0001f9cf',\n",
              " ':deaf_woman-dark_skin_tone:': '\\U0001f9cf🏿\\u200d♀',\n",
              " ':deaf_woman-dark_skin_tone_selector:': '\\U0001f9cf🏿\\u200d♀️',\n",
              " ':deaf_woman-light_skin_tone:': '\\U0001f9cf🏻\\u200d♀',\n",
              " ':deaf_woman-light_skin_tone_selector:': '\\U0001f9cf🏻\\u200d♀️',\n",
              " ':deaf_woman-medium-dark_skin_tone:': '\\U0001f9cf🏾\\u200d♀',\n",
              " ':deaf_woman-medium-dark_skin_tone_selector:': '\\U0001f9cf🏾\\u200d♀️',\n",
              " ':deaf_woman-medium-light_skin_tone:': '\\U0001f9cf🏼\\u200d♀',\n",
              " ':deaf_woman-medium-light_skin_tone_selector:': '\\U0001f9cf🏼\\u200d♀️',\n",
              " ':deaf_woman-medium_skin_tone:': '\\U0001f9cf🏽\\u200d♀',\n",
              " ':deaf_woman-medium_skin_tone_selector:': '\\U0001f9cf🏽\\u200d♀️',\n",
              " ':deaf_woman:': '\\U0001f9cf\\u200d♀',\n",
              " ':deaf_woman_selector:': '\\U0001f9cf\\u200d♀️',\n",
              " ':deciduous_tree:': '🌳',\n",
              " ':deer:': '🦌',\n",
              " ':delivery_truck:': '🚚',\n",
              " ':department_store:': '🏬',\n",
              " ':derelict_house:': '🏚',\n",
              " ':derelict_house_selector:': '🏚️',\n",
              " ':desert:': '🏜',\n",
              " ':desert_island:': '🏝',\n",
              " ':desert_island_selector:': '🏝️',\n",
              " ':desert_selector:': '🏜️',\n",
              " ':desktop_computer:': '🖥',\n",
              " ':desktop_computer_selector:': '🖥️',\n",
              " ':detective:': '🕵',\n",
              " ':detective_dark_skin_tone:': '🕵🏿',\n",
              " ':detective_light_skin_tone:': '🕵🏻',\n",
              " ':detective_medium-dark_skin_tone:': '🕵🏾',\n",
              " ':detective_medium-light_skin_tone:': '🕵🏼',\n",
              " ':detective_medium_skin_tone:': '🕵🏽',\n",
              " ':detective_selector:': '🕵️',\n",
              " ':diamond_suit:': '♦',\n",
              " ':diamond_suit_selector:': '♦️',\n",
              " ':diamond_with_a_dot:': '💠',\n",
              " ':dim_button:': '🔅',\n",
              " ':direct_hit:': '🎯',\n",
              " ':disappointed_face:': '😞',\n",
              " ':diving_mask:': '\\U0001f93f',\n",
              " ':diya_lamp:': '\\U0001fa94',\n",
              " ':dizzy:': '💫',\n",
              " ':dizzy_face:': '😵',\n",
              " ':dna:': '🧬',\n",
              " ':dog:': '🐕',\n",
              " ':dog_face:': '🐶',\n",
              " ':dollar_banknote:': '💵',\n",
              " ':dolphin:': '🐬',\n",
              " ':door:': '🚪',\n",
              " ':dotted_six-pointed_star:': '🔯',\n",
              " ':double_curly_loop:': '➿',\n",
              " ':double_exclamation_mark:': '‼',\n",
              " ':double_exclamation_mark_selector:': '‼️',\n",
              " ':doughnut:': '🍩',\n",
              " ':dove:': '🕊',\n",
              " ':dove_selector:': '🕊️',\n",
              " ':down-left_arrow:': '↙',\n",
              " ':down-left_arrow_selector:': '↙️',\n",
              " ':down-right_arrow:': '↘',\n",
              " ':down-right_arrow_selector:': '↘️',\n",
              " ':down_arrow:': '⬇',\n",
              " ':down_arrow_selector:': '⬇️',\n",
              " ':downcast_face_with_sweat:': '😓',\n",
              " ':downwards_button:': '🔽',\n",
              " ':dragon:': '🐉',\n",
              " ':dragon_face:': '🐲',\n",
              " ':dress:': '👗',\n",
              " ':drooling_face:': '🤤',\n",
              " ':drop_of_blood:': '\\U0001fa78',\n",
              " ':droplet:': '💧',\n",
              " ':drum:': '🥁',\n",
              " ':duck:': '🦆',\n",
              " ':dumpling:': '🥟',\n",
              " ':dvd:': '📀',\n",
              " ':e-mail:': '📧',\n",
              " ':eagle:': '🦅',\n",
              " ':ear:': '👂',\n",
              " ':ear_dark_skin_tone:': '👂🏿',\n",
              " ':ear_light_skin_tone:': '👂🏻',\n",
              " ':ear_medium-dark_skin_tone:': '👂🏾',\n",
              " ':ear_medium-light_skin_tone:': '👂🏼',\n",
              " ':ear_medium_skin_tone:': '👂🏽',\n",
              " ':ear_of_corn:': '🌽',\n",
              " ':ear_with_hearing_aid-dark_skin_tone:': '\\U0001f9bb🏿',\n",
              " ':ear_with_hearing_aid-light_skin_tone:': '\\U0001f9bb🏻',\n",
              " ':ear_with_hearing_aid-medium-dark_skin_tone:': '\\U0001f9bb🏾',\n",
              " ':ear_with_hearing_aid-medium-light_skin_tone:': '\\U0001f9bb🏼',\n",
              " ':ear_with_hearing_aid-medium_skin_tone:': '\\U0001f9bb🏽',\n",
              " ':ear_with_hearing_aid:': '\\U0001f9bb',\n",
              " ':egg:': '🥚',\n",
              " ':eggplant:': '🍆',\n",
              " ':eight-pointed_star:': '✴',\n",
              " ':eight-pointed_star_selector:': '✴️',\n",
              " ':eight-spoked_asterisk:': '✳',\n",
              " ':eight-spoked_asterisk_selector:': '✳️',\n",
              " ':eight-thirty:': '🕣',\n",
              " ':eight_o’clock:': '🕗',\n",
              " ':eject_button:': '⏏',\n",
              " ':eject_button_selector:': '⏏️',\n",
              " ':electric_plug:': '🔌',\n",
              " ':elephant:': '🐘',\n",
              " ':eleven-thirty:': '🕦',\n",
              " ':eleven_o’clock:': '🕚',\n",
              " ':elf:': '🧝',\n",
              " ':elf_dark_skin_tone:': '🧝🏿',\n",
              " ':elf_light_skin_tone:': '🧝🏻',\n",
              " ':elf_medium-dark_skin_tone:': '🧝🏾',\n",
              " ':elf_medium-light_skin_tone:': '🧝🏼',\n",
              " ':elf_medium_skin_tone:': '🧝🏽',\n",
              " ':envelope:': '✉',\n",
              " ':envelope_selector:': '✉️',\n",
              " ':envelope_with_arrow:': '📩',\n",
              " ':euro_banknote:': '💶',\n",
              " ':evergreen_tree:': '🌲',\n",
              " ':ewe:': '🐑',\n",
              " ':exclamation_mark:': '❗',\n",
              " ':exclamation_question_mark:': '⁉',\n",
              " ':exclamation_question_mark_selector:': '⁉️',\n",
              " ':exploding_head:': '🤯',\n",
              " ':expressionless_face:': '😑',\n",
              " ':eye:': '👁',\n",
              " ':eye_in_speech_bubble:': '👁\\u200d🗨',\n",
              " ':eye_in_speech_bubble_2:': '👁\\u200d🗨️',\n",
              " ':eye_in_speech_bubble_3:': '👁️\\u200d🗨️',\n",
              " ':eye_in_speech_bubble_selector:': '👁️\\u200d🗨',\n",
              " ':eye_selector:': '👁️',\n",
              " ':eyes:': '👀',\n",
              " ':face_blowing_a_kiss:': '😘',\n",
              " ':face_savoring_food:': '😋',\n",
              " ':face_screaming_in_fear:': '😱',\n",
              " ':face_vomiting:': '🤮',\n",
              " ':face_with_hand_over_mouth:': '🤭',\n",
              " ':face_with_head-bandage:': '🤕',\n",
              " ':face_with_medical_mask:': '😷',\n",
              " ':face_with_monocle:': '🧐',\n",
              " ':face_with_open_mouth:': '😮',\n",
              " ':face_with_raised_eyebrow:': '🤨',\n",
              " ':face_with_rolling_eyes:': '🙄',\n",
              " ':face_with_steam_from_nose:': '😤',\n",
              " ':face_with_symbols_on_mouth:': '🤬',\n",
              " ':face_with_tears_of_joy:': '😂',\n",
              " ':face_with_thermometer:': '🤒',\n",
              " ':face_with_tongue:': '😛',\n",
              " ':face_without_mouth:': '😶',\n",
              " ':factory:': '🏭',\n",
              " ':fairy:': '🧚',\n",
              " ':fairy_dark_skin_tone:': '🧚🏿',\n",
              " ':fairy_light_skin_tone:': '🧚🏻',\n",
              " ':fairy_medium-dark_skin_tone:': '🧚🏾',\n",
              " ':fairy_medium-light_skin_tone:': '🧚🏼',\n",
              " ':fairy_medium_skin_tone:': '🧚🏽',\n",
              " ':falafel:': '\\U0001f9c6',\n",
              " ':fallen_leaf:': '🍂',\n",
              " ':family:': '👪',\n",
              " ':family_man_boy:': '👨\\u200d👦',\n",
              " ':family_man_boy_boy:': '👨\\u200d👦\\u200d👦',\n",
              " ':family_man_girl:': '👨\\u200d👧',\n",
              " ':family_man_girl_boy:': '👨\\u200d👧\\u200d👦',\n",
              " ':family_man_girl_girl:': '👨\\u200d👧\\u200d👧',\n",
              " ':family_man_man_boy:': '👨\\u200d👨\\u200d👦',\n",
              " ':family_man_man_boy_boy:': '👨\\u200d👨\\u200d👦\\u200d👦',\n",
              " ':family_man_man_girl:': '👨\\u200d👨\\u200d👧',\n",
              " ':family_man_man_girl_boy:': '👨\\u200d👨\\u200d👧\\u200d👦',\n",
              " ':family_man_man_girl_girl:': '👨\\u200d👨\\u200d👧\\u200d👧',\n",
              " ':family_man_woman_boy:': '👨\\u200d👩\\u200d👦',\n",
              " ':family_man_woman_boy_boy:': '👨\\u200d👩\\u200d👦\\u200d👦',\n",
              " ':family_man_woman_girl:': '👨\\u200d👩\\u200d👧',\n",
              " ':family_man_woman_girl_boy:': '👨\\u200d👩\\u200d👧\\u200d👦',\n",
              " ':family_man_woman_girl_girl:': '👨\\u200d👩\\u200d👧\\u200d👧',\n",
              " ':family_woman_boy:': '👩\\u200d👦',\n",
              " ':family_woman_boy_boy:': '👩\\u200d👦\\u200d👦',\n",
              " ':family_woman_girl:': '👩\\u200d👧',\n",
              " ':family_woman_girl_boy:': '👩\\u200d👧\\u200d👦',\n",
              " ':family_woman_girl_girl:': '👩\\u200d👧\\u200d👧',\n",
              " ':family_woman_woman_boy:': '👩\\u200d👩\\u200d👦',\n",
              " ':family_woman_woman_boy_boy:': '👩\\u200d👩\\u200d👦\\u200d👦',\n",
              " ':family_woman_woman_girl:': '👩\\u200d👩\\u200d👧',\n",
              " ':family_woman_woman_girl_boy:': '👩\\u200d👩\\u200d👧\\u200d👦',\n",
              " ':family_woman_woman_girl_girl:': '👩\\u200d👩\\u200d👧\\u200d👧',\n",
              " ':fast-forward_button:': '⏩',\n",
              " ':fast_down_button:': '⏬',\n",
              " ':fast_reverse_button:': '⏪',\n",
              " ':fast_up_button:': '⏫',\n",
              " ':fax_machine:': '📠',\n",
              " ':fearful_face:': '😨',\n",
              " ':female_sign:': '♀',\n",
              " ':female_sign_selector:': '♀️',\n",
              " ':ferris_wheel:': '🎡',\n",
              " ':ferry:': '⛴',\n",
              " ':ferry_selector:': '⛴️',\n",
              " ':field_hockey:': '🏑',\n",
              " ':file_cabinet:': '🗄',\n",
              " ':file_cabinet_selector:': '🗄️',\n",
              " ':file_folder:': '📁',\n",
              " ':film_frames:': '🎞',\n",
              " ':film_frames_selector:': '🎞️',\n",
              " ':film_projector:': '📽',\n",
              " ':film_projector_selector:': '📽️',\n",
              " ':fire:': '🔥',\n",
              " ':fire_engine:': '🚒',\n",
              " ':fire_extinguisher:': '🧯',\n",
              " ':firecracker:': '🧨',\n",
              " ':fireworks:': '🎆',\n",
              " ':first_quarter_moon:': '🌓',\n",
              " ':first_quarter_moon_face:': '🌛',\n",
              " ':fish:': '🐟',\n",
              " ':fish_cake_with_swirl:': '🍥',\n",
              " ':fishing_pole:': '🎣',\n",
              " ':five-thirty:': '🕠',\n",
              " ':five_o’clock:': '🕔',\n",
              " ':flag_in_hole:': '⛳',\n",
              " ':flamingo:': '\\U0001f9a9',\n",
              " ':flashlight:': '🔦',\n",
              " ':flat_shoe:': '🥿',\n",
              " ':fleur-de-lis:': '⚜',\n",
              " ':fleur-de-lis_selector:': '⚜️',\n",
              " ':flexed_biceps:': '💪',\n",
              " ':flexed_biceps_dark_skin_tone:': '💪🏿',\n",
              " ':flexed_biceps_light_skin_tone:': '💪🏻',\n",
              " ':flexed_biceps_medium-dark_skin_tone:': '💪🏾',\n",
              " ':flexed_biceps_medium-light_skin_tone:': '💪🏼',\n",
              " ':flexed_biceps_medium_skin_tone:': '💪🏽',\n",
              " ':floppy_disk:': '💾',\n",
              " ':flower_playing_cards:': '🎴',\n",
              " ':flushed_face:': '😳',\n",
              " ...}"
            ]
          },
          "metadata": {},
          "execution_count": 98
        }
      ]
    },
    {
      "cell_type": "code",
      "source": [
        "emoji_dict = {\"joy\":\"😂\", \"fear\":\"😱\", \"anger\":\"😠\", \"sadness\":\"😢\", \"disgust\":\"😒\", \"shame\":\"😳\", \"guilt\":\"😳\"}"
      ],
      "metadata": {
        "id": "BH97a28H3ucc"
      },
      "execution_count": null,
      "outputs": []
    },
    {
      "cell_type": "code",
      "source": [
        "t1 = \"Thank you for dinner!\"\n",
        "t2 = \"I don't like it\"\n",
        "t3 = \"My car skidded on the wet street\"\n",
        "t4 = \"i Am anger on you\"\n",
        "\n",
        "texts = [t1, t2, t3, t4]\n",
        "for text in texts:\n",
        "    features = create_feature(text, nrange=(1, 5))\n",
        "    features = vectorizer.transform(features)\n",
        "    prediction = grid_obj.predict(features)[0]\n",
        "    print(\"{} {}\".format(emoji_dict[prediction], text))"
      ],
      "metadata": {
        "colab": {
          "base_uri": "https://localhost:8080/"
        },
        "id": "qoe2lTWD32d-",
        "outputId": "8e39ea8a-3956-47f7-9374-c540079d715d"
      },
      "execution_count": null,
      "outputs": [
        {
          "output_type": "stream",
          "name": "stdout",
          "text": [
            "😂 Thank you for dinner!\n",
            "😢 I don't like it\n",
            "😱 My car skidded on the wet street\n",
            "😠 i Am anger on you\n"
          ]
        }
      ]
    }
  ],
  "metadata": {
    "colab": {
      "provenance": [],
      "include_colab_link": true
    },
    "kernelspec": {
      "display_name": "Python 3",
      "name": "python3"
    }
  },
  "nbformat": 4,
  "nbformat_minor": 0
}